{
 "cells": [
  {
   "cell_type": "code",
   "execution_count": 2,
   "metadata": {},
   "outputs": [],
   "source": [
    "with open(\"drive-path.txt\", 'r') as f:\n",
    "    download_path = f.readline()"
   ]
  },
  {
   "cell_type": "code",
   "execution_count": null,
   "metadata": {},
   "outputs": [],
   "source": [
    "# Windows를 포함한 모든 환경에서 실습할 수 있게 파이썬 코드를 작성했습니다. - 위키북스\n",
    "\n",
    "import urllib\n",
    "import zipfile\n",
    "from tqdm import tqdm\n",
    "\n",
    "#https://stackoverflow.com/a/53877507/1558946\n",
    "class DownloadProgressBar(tqdm):\n",
    "    def update_to(self, b=1, bsize=1, tsize=None):\n",
    "        if tsize is not None:\n",
    "            self.total = tsize\n",
    "        self.update(b * bsize - self.n)\n",
    "\n",
    "def download_data(url):\n",
    "    print(f\"{url} 다운로드 중 ...\")\n",
    "    with DownloadProgressBar(unit='B', unit_scale=True,\n",
    "                             miniters=1, desc=url.split('/')[-1]) as t:\n",
    "        zip_path, _ = urllib.request.urlretrieve(url, reporthook=t.update_to)\n",
    "\n",
    "    print(\"압축을 푸는 중 ...\")\n",
    "    with zipfile.ZipFile(zip_path, \"r\") as f:\n",
    "        for name in tqdm(iterable=f.namelist(), total=len(f.namelist())):\n",
    "            # f.extract(member=name, path=\"data_dir\")\n",
    "            f.extract(member=name, path=download_path)\n",
    "\n",
    "\n",
    "download_data(\"http://images.cocodataset.org/annotations/annotations_trainval2014.zip\")"
   ]
  },
  {
   "cell_type": "code",
   "execution_count": null,
   "metadata": {},
   "outputs": [],
   "source": [
    "download_data(\"http://images.cocodataset.org/zips/train2014.zip\")"
   ]
  },
  {
   "cell_type": "code",
   "execution_count": null,
   "metadata": {},
   "outputs": [],
   "source": [
    "download_data(\"http://images.cocodataset.org/zips/val2014.zip\")"
   ]
  }
 ],
 "metadata": {
  "kernelspec": {
   "display_name": "ml_env",
   "language": "python",
   "name": "python3"
  },
  "language_info": {
   "codemirror_mode": {
    "name": "ipython",
    "version": 3
   },
   "file_extension": ".py",
   "mimetype": "text/x-python",
   "name": "python",
   "nbconvert_exporter": "python",
   "pygments_lexer": "ipython3",
   "version": "3.11.5"
  }
 },
 "nbformat": 4,
 "nbformat_minor": 2
}
